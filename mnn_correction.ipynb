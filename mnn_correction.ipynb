{
 "cells": [
  {
   "cell_type": "markdown",
   "id": "badc38dd-4b45-41ce-83c4-29369517fc9d",
   "metadata": {},
   "source": [
    "## CCA Seurat impl"
   ]
  },
  {
   "cell_type": "markdown",
   "id": "cc9a59ba-6b53-46e1-9871-8c9a183be125",
   "metadata": {},
   "source": [
    "#### why does ols fail when we have large number of variables and they are highly correlated "
   ]
  },
  {
   "cell_type": "markdown",
   "id": "67f9c9ad-79dd-4ebe-89c7-935332195c6d",
   "metadata": {},
   "source": [
    "models the cross covariance of $X^TY$ using latent variables. useful when the columns of $X$ and $Y$ are collinear. We basically compute the latent space projection vectors of $X$ and $Y$ by maximizing cross covariance of $X^TY$. This way we choose latent vectors that maximize this quantity and are maximally related by the loss function. So it has greater predictive power as it will retain those eigen vectors that represent the maximal. \n",
    "\n",
    "So we basically compute the svd of $cov(X^TY)$ and then choose the maximal eigen vector for both. This is the best rank 1 approximation of $cov(X^TY)$. So we choose ξ and ω that maximize Cov(Xu , Yv) and then we find the residual matrix by saying that X can be approximated by Xu. and we say that X_new = coeff * Xu_r and find the residual matrix by estimating coef since we already know Xu_r. Then we subtract X_new from X to obtain the residual matrix and we do the similar for Y.\n",
    "\n",
    "\n",
    "So basically we approximate the X and Y matrices by the eigen vectors that best explain the cross covariance of $X^TY$"
   ]
  },
  {
   "cell_type": "markdown",
   "id": "d83a394c-7887-4d58-bad1-40261c70ba58",
   "metadata": {},
   "source": [
    "### here i implement the Mutual Nearest Neighbor correction as described in laleh hagverdhi et al. "
   ]
  },
  {
   "cell_type": "markdown",
   "id": "8e0d62f8-244c-4a97-88ec-c92389b71c85",
   "metadata": {},
   "source": [
    "basically computes the mutual nearest neighbors between two datasets. Then says that the difference between these mutual nearest neighbors is the batch effect. So we get a reduced set of batch effect for every unique cell in the query dataset. Then we say that the batch effect for each cell in the query is a gaussian kernel weighted sum of the batch effects of the mutual nearest neighbor cells so for every query we compute a gaussian weighted G(x, B) where B is the unqiue mnn cell in the query dataset and do G(x, B) * batch_vector / sum_over_B(G(x, B)). Then we subtract off this batch effect computed for every cell to get the corrected data "
   ]
  },
  {
   "cell_type": "code",
   "execution_count": 386,
   "id": "be3c7377-89af-458f-a7e9-9ee067ef65f6",
   "metadata": {},
   "outputs": [],
   "source": [
    "from sklearn.cross_decomposition import CCA\n",
    "from sklearn.cross_decomposition import PLSRegression\n",
    "from sklearn.cross_decomposition import PLSCanonical\n",
    "import scanpy as sc\n",
    "import matplotlib.pyplot as plt\n",
    "import numpy as np\n",
    "np.set_printoptions(suppress = True)\n",
    "\n",
    "from sklearn.svm import SVR\n",
    "from sklearn.model_selection import StratifiedShuffleSplit\n",
    "from sklearn.model_selection import GridSearchCV\n",
    "from tqdm import tqdm\n"
   ]
  },
  {
   "cell_type": "code",
   "execution_count": 387,
   "id": "c065922b-3b9e-441b-b321-33d65d64fffe",
   "metadata": {},
   "outputs": [],
   "source": [
    "eps = 1e-20\n",
    "nhvg = 2000\n"
   ]
  },
  {
   "cell_type": "code",
   "execution_count": 388,
   "id": "c999ff47-f018-4651-a1f9-1e6eee91140e",
   "metadata": {},
   "outputs": [
    {
     "data": {
      "text/plain": [
       "AnnData object with n_obs × n_vars = 13999 × 14053\n",
       "    obs: 'orig.ident', 'nCount_RNA', 'nFeature_RNA', 'stim', 'seurat_annotations'\n",
       "    var: 'features'"
      ]
     },
     "execution_count": 388,
     "metadata": {},
     "output_type": "execute_result"
    }
   ],
   "source": [
    "adata = sc.read_h5ad(\"ifnb.h5ad\")\n",
    "n_cells, n_genes = adata.shape\n",
    "adata ## axis 1 is genes "
   ]
  },
  {
   "cell_type": "code",
   "execution_count": 389,
   "id": "fc300d75-9fd7-40b1-be00-f00345c09874",
   "metadata": {},
   "outputs": [],
   "source": [
    "#sc.pp.normalize_total(adata, 10000)\n",
    "#sc.pp.log1p(adata)"
   ]
  },
  {
   "cell_type": "code",
   "execution_count": 390,
   "id": "ea9a7ac9-1a41-4aab-abd6-41590c81451d",
   "metadata": {},
   "outputs": [],
   "source": [
    "adata_ctrl = adata[adata.obs[\"stim\"]==\"CTRL\"]\n",
    "adata_stim = adata[adata.obs[\"stim\"]==\"STIM\"]"
   ]
  },
  {
   "cell_type": "markdown",
   "id": "803d4aa0-3637-4867-bc25-2b22769da766",
   "metadata": {},
   "source": [
    "### choose highly variable features"
   ]
  },
  {
   "cell_type": "code",
   "execution_count": 391,
   "id": "d0c189c5-c8f7-4900-88c1-41cb604e0d4a",
   "metadata": {},
   "outputs": [],
   "source": [
    "def filter_count_matrix(cnt, axis, flt_val, flt_name):\n",
    "    print (f\"Executing {flt_name} on axis {axis} by val {flt_val}\")\n",
    "    mask_vec = cnt.sum(axis = axis)\n",
    "    print (f\"shape of mask vec {mask_vec.shape}\")\n",
    "    mask = mask_vec > flt_val\n",
    "    \n",
    "    if axis == 0:\n",
    "        cnt_flt = cnt[:, mask]\n",
    "    else:\n",
    "        cnt_flt = cnt[mask, :]\n",
    "    print (f\"shape before {cnt.shape}, shape after {cnt_flt.shape}\")\n",
    "    return cnt_flt, mask\n",
    "\n",
    "\n",
    "def compute_z_scores(raw_counts, std_estimated):\n",
    "\n",
    "\n",
    "    n_cells = raw_counts.shape[0]\n",
    "    raw_counts_mean = raw_counts.mean(axis = 0)[None, :]\n",
    "    raw_counts_std = np.sqrt(10**(std_estimated))[None, :]\n",
    "    z = (raw_counts - raw_counts_mean)/raw_counts_std\n",
    "    z = np.clip(z, 0, np.sqrt(n_cells))\n",
    "    return z\n",
    "\n",
    "def fit_log_mean_log_var(log_mean_genes, log_var_genes):\n",
    "    \"\"\"\n",
    "    estimating best hyperparameters over the given grid \n",
    "    \"\"\"\n",
    "    svr = GridSearchCV(SVR(kernel=\"rbf\", gamma=0.1), param_grid={\"C\": [1e-2, 1e-1, 1e0, 1e1], \"gamma\": np.logspace(-2, 2, 4)})\n",
    "    svr.fit(log_mean_genes, log_var_genes)\n",
    "    \n",
    "    svr_best = SVR(kernel = \"rbf\", **svr.best_params_)\n",
    "    svr_best.fit(log_mean_genes, log_var_genes)\n",
    "    print (svr.best_params_, svr_best.score(log_mean_genes, log_var_genes))\n",
    "    log_var_smoothed = svr_best.predict(log_mean_genes)\n",
    "    return log_var_smoothed\n",
    "\n",
    "def filter_adata_and_get_gene_stats(adata):\n",
    "    raw_counts = adata.X.toarray()\n",
    "    raw_counts, low_genes_mask = filter_count_matrix(raw_counts,  0, 3, \"filter low genes\")\n",
    "    raw_counts, low_total_count_mask = filter_count_matrix(raw_counts, 1, 3, \"filter low total counts\")\n",
    "    adata_flt = adata[:,low_genes_mask]\n",
    "    adata_flt = adata_flt[low_total_count_mask, :]\n",
    "    log_mean_genes = np.log10(raw_counts.mean(axis = 0))[:, None]\n",
    "    log_var_genes = np.log10(raw_counts.var(axis = 0))\n",
    "    \n",
    "    return log_mean_genes, log_var_genes, adata_flt, adata, raw_counts\n",
    "\n",
    "def estimate_hvg(adata):\n",
    "    log_mean_genes, log_var_genes, adata_flt, adata, raw_counts = filter_adata_and_get_gene_stats(adata)\n",
    "    log_var_smoothed = fit_log_mean_log_var(log_mean_genes, log_var_genes)\n",
    "    z = compute_z_scores(raw_counts, log_var_smoothed)\n",
    "    variance_genes = z.var(axis = 0)\n",
    "    \n",
    "    hvg_idx = np.argsort(variance_genes)[::-1]\n",
    "    hvg_vals = variance_genes[hvg_idx]\n",
    "    hvg = adata_flt.var[\"features\"].iloc[hvg_idx].to_list()\n",
    "    \n",
    "    adata_flt.var[\"hvg_sorted\"] = hvg\n",
    "    adata_flt.var[\"hvg_variance\"] = hvg_vals\n",
    "    adata_flt.layers[\"z_scores\"] = z\n",
    "    adata_flt.var[\"hvg_idx_sorted\"] = hvg_idx\n",
    "    \n",
    "    return adata_flt, hvg, log_var_genes, log_var_smoothed, log_mean_genes"
   ]
  },
  {
   "cell_type": "code",
   "execution_count": 392,
   "id": "768b82a0-a79e-4521-9e67-e33cb2eba14f",
   "metadata": {},
   "outputs": [],
   "source": [
    "top10_ctrl = [\"HBB\", \"HBA2\", \"HBA1\", \"CCL3\", \"CCL4\", \"CXCL10\", \"TXN\", \"CCL7\", \"CCL2\", \"GNLY\" ]"
   ]
  },
  {
   "cell_type": "code",
   "execution_count": 393,
   "id": "6dff6738-adac-4edb-9eff-2bdb4dbc1290",
   "metadata": {
    "tags": []
   },
   "outputs": [
    {
     "name": "stdout",
     "output_type": "stream",
     "text": [
      "Executing filter low genes on axis 0 by val 3\n",
      "shape of mask vec (14053,)\n",
      "shape before (6548, 14053), shape after (6548, 13110)\n",
      "Executing filter low total counts on axis 1 by val 3\n",
      "shape of mask vec (6548,)\n",
      "shape before (6548, 13110), shape after (6548, 13110)\n",
      "{'C': 10.0, 'gamma': 0.21544346900318834} 0.976500917028416\n"
     ]
    },
    {
     "name": "stderr",
     "output_type": "stream",
     "text": [
      "/tmp/ipykernel_394191/2342671033.py:59: ImplicitModificationWarning: Trying to modify attribute `.var` of view, initializing view as actual.\n",
      "  adata_flt.var[\"hvg_sorted\"] = hvg\n",
      "/home/user-dnf/anaconda3/envs/hiplex/lib/python3.8/contextlib.py:120: FutureWarning: X.dtype being converted to np.float32 from float64. In the next version of anndata (0.9) conversion will not be automatic. Pass dtype explicitly to avoid this warning. Pass `AnnData(X, dtype=X.dtype, ...)` to get the future behavour.\n",
      "  next(self.gen)\n"
     ]
    },
    {
     "name": "stdout",
     "output_type": "stream",
     "text": [
      "Executing filter low genes on axis 0 by val 3\n",
      "shape of mask vec (14053,)\n",
      "shape before (7451, 14053), shape after (7451, 12971)\n",
      "Executing filter low total counts on axis 1 by val 3\n",
      "shape of mask vec (7451,)\n",
      "shape before (7451, 12971), shape after (7451, 12971)\n",
      "{'C': 10.0, 'gamma': 0.21544346900318834} 0.9804551129458917\n"
     ]
    },
    {
     "name": "stderr",
     "output_type": "stream",
     "text": [
      "/tmp/ipykernel_394191/2342671033.py:59: ImplicitModificationWarning: Trying to modify attribute `.var` of view, initializing view as actual.\n",
      "  adata_flt.var[\"hvg_sorted\"] = hvg\n",
      "/home/user-dnf/anaconda3/envs/hiplex/lib/python3.8/contextlib.py:120: FutureWarning: X.dtype being converted to np.float32 from float64. In the next version of anndata (0.9) conversion will not be automatic. Pass dtype explicitly to avoid this warning. Pass `AnnData(X, dtype=X.dtype, ...)` to get the future behavour.\n",
      "  next(self.gen)\n"
     ]
    }
   ],
   "source": [
    "adata_ctrl_flt, hvg_ctrl, lvg_c, lvs_c, lmg_c = estimate_hvg(adata_ctrl)\n",
    "adata_stim_flt, hvg_stim, lvg_s, lvs_s, lmg_s = estimate_hvg(adata_stim)"
   ]
  },
  {
   "cell_type": "markdown",
   "id": "5cf0387e-0603-4dc5-9d40-5802a2e63035",
   "metadata": {},
   "source": [
    "### plot the mean variance relationship and the fitted curves "
   ]
  },
  {
   "cell_type": "code",
   "execution_count": 405,
   "id": "32835094-d0ed-455d-9747-b6903398790e",
   "metadata": {},
   "outputs": [
    {
     "data": {
      "image/png": "[encoded data removed]",
      "text/plain": [
       "<Figure size 1152x576 with 2 Axes>"
      ]
     },
     "metadata": {
      "needs_background": "light"
     },
     "output_type": "display_data"
    }
   ],
   "source": [
    "f, a = plt.subplots(1, 2, figsize =(16, 8))\n",
    "a[0].scatter(lmg_c, lvg_c, c = \"r\", s = 2, alpha = .3)\n",
    "a[0].scatter(lmg_c, lvs_c, c = \"k\", s = 2, alpha = .3)\n",
    "\n",
    "a[1].scatter(lmg_s, lvg_s, c = \"r\", s = 2, alpha = .3)\n",
    "a[1].scatter(lmg_s, lvs_s, c = \"k\", s = 2, alpha = .3)\n",
    "\n",
    "a[0].set_title(\"ctrl dataset\")\n",
    "a[1].set_title(\"stim dataset\")\n",
    "for i in range(2):\n",
    "    a[i].set_xlabel(\"log10 mean\")\n",
    "    a[i].set_ylabel(\"log10 variance\")"
   ]
  },
  {
   "cell_type": "code",
   "execution_count": 395,
   "id": "0af7933e-005e-4e62-9868-ec370e8d85f1",
   "metadata": {},
   "outputs": [
    {
     "data": {
      "text/plain": [
       "'\\nsc.pp.normalize_total(adata, target_sum=1e4)\\nsc.pp.log1p(adata)\\n\\nstim_cat = adata.obs[\"stim\"].unique()\\nadata_list = [adata[adata.obs[\"stim\"] == sc] for sc in stim_cat]\\nadata_list\\n'"
      ]
     },
     "execution_count": 395,
     "metadata": {},
     "output_type": "execute_result"
    }
   ],
   "source": [
    "\"\"\"\n",
    "sc.pp.normalize_total(adata, target_sum=1e4)\n",
    "sc.pp.log1p(adata)\n",
    "\n",
    "stim_cat = adata.obs[\"stim\"].unique()\n",
    "adata_list = [adata[adata.obs[\"stim\"] == sc] for sc in stim_cat]\n",
    "adata_list\n",
    "\"\"\""
   ]
  },
  {
   "cell_type": "markdown",
   "id": "3e37eaa0-7047-4c3c-9b74-0e4150767035",
   "metadata": {},
   "source": [
    "### Seurat CCA\n",
    "We employ a variant of CCA, diagonal CCA, to account for cases where there are more cells than genes and apply this using the single-cell RNA-seq data sets as input"
   ]
  },
  {
   "cell_type": "markdown",
   "id": "71ed0288-10ae-48f8-a0f4-1ceea7d5cbcf",
   "metadata": {},
   "source": [
    "### MNN batch effect correction"
   ]
  },
  {
   "cell_type": "markdown",
   "id": "c84a04eb-4be7-406a-920a-5c49cbb08d66",
   "metadata": {},
   "source": [
    "##### implement the mnn correction for batch effects first and then the seurat cca function\n",
    "\n",
    "The paper though introduces a lot of confusing and vague terminology and its a masterpiece in obfuscation"
   ]
  },
  {
   "cell_type": "code",
   "execution_count": 406,
   "id": "838db4a1-0762-4c49-aec7-aa75847fb2cc",
   "metadata": {},
   "outputs": [],
   "source": [
    "def cosine_normalize(rc):\n",
    "    return rc / np.linalg.norm(rc, axis = 1)[:, None]"
   ]
  },
  {
   "cell_type": "code",
   "execution_count": 407,
   "id": "67b46fed-68ea-4f35-abb8-597ea0d8c04d",
   "metadata": {},
   "outputs": [
    {
     "name": "stdout",
     "output_type": "stream",
     "text": [
      "1222\n"
     ]
    }
   ],
   "source": [
    "hvg0 = adata_ctrl_flt.var[\"hvg_sorted\"][:3000]\n",
    "hvg1 = adata_stim_flt.var[\"hvg_sorted\"][:3000]\n",
    "hvg = list(np.intersect1d(hvg0, hvg1))\n",
    "print (len(hvg))"
   ]
  },
  {
   "cell_type": "code",
   "execution_count": 408,
   "id": "be9058a2-0ddf-4582-857e-8c18d3f7ff03",
   "metadata": {},
   "outputs": [],
   "source": [
    "adata_ctrl_hvg = adata_ctrl_flt[:,hvg]\n",
    "adata_stim_hvg = adata_stim_flt[:, hvg]"
   ]
  },
  {
   "cell_type": "code",
   "execution_count": 409,
   "id": "ba673774-a041-4229-88b3-35653e051dda",
   "metadata": {},
   "outputs": [],
   "source": [
    "rc_hvg_b0 = cosine_normalize(adata_ctrl_hvg.X.toarray())\n",
    "rc_hvg_b1 = cosine_normalize(adata_stim_hvg.X.toarray())"
   ]
  },
  {
   "cell_type": "code",
   "execution_count": 410,
   "id": "a35d2bff-c493-40ed-8709-947d09c355e8",
   "metadata": {},
   "outputs": [],
   "source": [
    "gi = np.intersect1d(adata_ctrl_flt.var[\"features\"].to_list(), adata_stim_flt.var[\"features\"].to_list())"
   ]
  },
  {
   "cell_type": "code",
   "execution_count": 411,
   "id": "a07e6106-01b1-49cd-afe7-f3dd16e2a874",
   "metadata": {},
   "outputs": [],
   "source": [
    "rc_b0 = cosine_normalize(adata_ctrl_flt[:, gi].X.toarray())\n",
    "rc_b1 = cosine_normalize(adata_stim_flt[:, gi].X.toarray())"
   ]
  },
  {
   "cell_type": "code",
   "execution_count": 412,
   "id": "ca918ee9-4b02-4815-8987-9bae609ac53e",
   "metadata": {},
   "outputs": [],
   "source": [
    "rc_hvg_ref = rc_hvg_b0\n",
    "rc_ref = rc_b0\n",
    "\n",
    "\n",
    "bi_hvg = rc_hvg_b1\n",
    "bi = rc_b1"
   ]
  },
  {
   "cell_type": "code",
   "execution_count": null,
   "id": "3b792246-8b22-49f8-a9da-6d872cd7ffb8",
   "metadata": {},
   "outputs": [],
   "source": []
  },
  {
   "cell_type": "code",
   "execution_count": null,
   "id": "485dac97-e2f6-4808-8c4f-a5a288d85da7",
   "metadata": {},
   "outputs": [],
   "source": []
  },
  {
   "cell_type": "code",
   "execution_count": 415,
   "id": "5e58fe8e-ca7b-479c-bb1d-e040fa183379",
   "metadata": {},
   "outputs": [],
   "source": [
    "from sklearn.neighbors import KDTree\n",
    "from scipy.spatial import cKDTree\n",
    "from scipy.spatial.distance import cdist\n",
    "### might have to swap out this thingy for the fast nearest neighbor searches "
   ]
  },
  {
   "cell_type": "code",
   "execution_count": 416,
   "id": "91df444d-d17f-4b76-8519-84373f22e10a",
   "metadata": {},
   "outputs": [],
   "source": [
    "def get_mnn(rc_hvg_ref, bi_hvg, n_neighbors):\n",
    "    \n",
    "    ## for each bi, compute the mnn between ref and bi\n",
    "    index_ref = cKDTree(rc_hvg_ref)\n",
    "    index_bi = cKDTree(bi_hvg)\n",
    "    dist_bi_to_ref, indices_bi_to_ref = index_ref.query(bi_hvg,    k = n_neighbors)\n",
    "    dist_ref_to_bi, indices_ref_to_bi = index_bi.query(rc_hvg_ref, k = n_neighbors)\n",
    "    mnn_ref = []\n",
    "    mnn_bi = []\n",
    "    for bi_node, ref_neighbors in tqdm(enumerate(indices_bi_to_ref)):\n",
    "        ## check if any of ref_neighbors are in indices_ref_to_bi\n",
    "        for rn in ref_neighbors:\n",
    "            if bi_node in indices_ref_to_bi[rn]:\n",
    "                mnn_ref.append(rn)\n",
    "                mnn_bi.append(bi_node)\n",
    "                \n",
    "    return mnn_ref, mnn_bi, indices_bi_to_ref, indices_ref_to_bi"
   ]
  },
  {
   "cell_type": "code",
   "execution_count": 417,
   "id": "726f845e-f97b-4a49-91af-f24ac96ae14f",
   "metadata": {},
   "outputs": [],
   "source": [
    "n_neighbors = 20"
   ]
  },
  {
   "cell_type": "code",
   "execution_count": 418,
   "id": "72310493-1d53-4ff2-a3f3-b8aef98004ff",
   "metadata": {},
   "outputs": [
    {
     "name": "stderr",
     "output_type": "stream",
     "text": [
      "7451it [00:00, 17082.24it/s]\n"
     ]
    }
   ],
   "source": [
    "mnn_ref, mnn_bi, ind_bi_to_ref, ind_ref_to_bi = get_mnn(rc_hvg_ref, bi_hvg, n_neighbors)"
   ]
  },
  {
   "cell_type": "code",
   "execution_count": 419,
   "id": "2de02a52-c285-4db2-805b-31bc58939ddb",
   "metadata": {},
   "outputs": [],
   "source": [
    "### compute the batch vectors \n",
    "batch_vectors_hvg_ref_to_bi = rc_hvg_ref[mnn_ref] - bi_hvg[mnn_bi]\n",
    "batch_vectors_all_ref_to_bi = rc_ref[mnn_ref] - bi[mnn_bi]"
   ]
  },
  {
   "cell_type": "code",
   "execution_count": 420,
   "id": "bf2edbbc-1858-446a-85e3-dedf43ccc656",
   "metadata": {},
   "outputs": [
    {
     "data": {
      "text/plain": [
       "((11100, 1222), (11100, 12393))"
      ]
     },
     "execution_count": 420,
     "metadata": {},
     "output_type": "execute_result"
    }
   ],
   "source": [
    "batch_vectors_hvg_ref_to_bi.shape, batch_vectors_all_ref_to_bi.shape"
   ]
  },
  {
   "cell_type": "code",
   "execution_count": 421,
   "id": "7fa4d68b-34f7-4f03-b91f-9d88445f83de",
   "metadata": {},
   "outputs": [],
   "source": [
    "## reduce the batch_vectors_hvg_ref_to_bi\n"
   ]
  },
  {
   "cell_type": "code",
   "execution_count": 422,
   "id": "d268bc3d-2baf-4eb6-98c0-b574f22b9428",
   "metadata": {},
   "outputs": [],
   "source": [
    "mnn_bi_unq, mnn_bi_cnt = np.unique(mnn_bi, return_counts = True)"
   ]
  },
  {
   "cell_type": "code",
   "execution_count": 423,
   "id": "3c522318-997b-491e-b11e-ad742bf00a29",
   "metadata": {},
   "outputs": [],
   "source": [
    "### average the batch vectors at the same index in bi\n",
    "### i.e. have a shape of mnn_bi.shape[0] x hvg \n",
    "batch_vectors_hvg_ref_to_bi_red = np.zeros((bi_hvg.shape[0], batch_vectors_hvg_ref_to_bi.shape[1]))\n",
    "for index, ve in zip(mnn_bi, batch_vectors_hvg_ref_to_bi):\n",
    "    batch_vectors_hvg_ref_to_bi_red[index] += ve\n",
    "batch_vectors_hvg_ref_to_bi_red = batch_vectors_hvg_ref_to_bi_red[mnn_bi_unq] / mnn_bi_cnt[:, None]"
   ]
  },
  {
   "cell_type": "code",
   "execution_count": 462,
   "id": "9af71314-61e2-44c2-82a4-e5a57536d6c6",
   "metadata": {},
   "outputs": [],
   "source": [
    "dist_mat = np.zeros((len(bi_hvg), len(kernel_cells_bi)))\n",
    "for i, bh in tqdm(enumerate(bi_hvg)):\n",
    "    for j, kc in enumerate(kernel_cells_bi):\n",
    "        dist_mat[i, j] = np.dot(bh , kc)"
   ]
  },
  {
   "cell_type": "code",
   "execution_count": null,
   "id": "c3c72187-d434-4e9a-a7fc-9b361948bd0a",
   "metadata": {},
   "outputs": [],
   "source": [
    "## total contribution of a kernel point to the entire dataset is normed to 1 \n",
    "## so if thats too far away it doesnt adversely affect the results "
   ]
  },
  {
   "cell_type": "code",
   "execution_count": 463,
   "id": "af0a30d7-1090-43d7-bd14-de5b1bd9514e",
   "metadata": {},
   "outputs": [],
   "source": [
    "kernel_cells_bi = bi_hvg[mnn_bi_unq]\n",
    "cdist_kernel_bi = dist_mat\n",
    "\n",
    "sigma = 1.0\n",
    "W = np.exp(-cdist_kernel_bi / sigma**2)\n",
    "norm_W = np.sum(W[mnn_bi_unq], axis=0)\n",
    "W = np.divide(W, norm_W)\n",
    "denom_Wm = W.sum(axis = 1, keepdims = True)\n"
   ]
  },
  {
   "cell_type": "code",
   "execution_count": 469,
   "id": "a7e8eed7-64dc-434a-8d80-1e50d2024d34",
   "metadata": {},
   "outputs": [
    {
     "data": {
      "text/plain": [
       "((7451, 1833), (1833,), (1833,))"
      ]
     },
     "execution_count": 469,
     "metadata": {},
     "output_type": "execute_result"
    }
   ],
   "source": [
    "W.shape, norm_W.shape, mnn_bi_unq.shape### across all kernel cells the probability is normalized to 1 \n",
    "### and across all cells its normalized to 1 "
   ]
  },
  {
   "cell_type": "code",
   "execution_count": 492,
   "id": "26ed801d-d335-4e43-b988-405ac8c651a2",
   "metadata": {},
   "outputs": [],
   "source": [
    "correction = np.divide(np.dot(W , batch_vectors_hvg_ref_to_bi_red), denom_Wm)"
   ]
  },
  {
   "cell_type": "code",
   "execution_count": 497,
   "id": "f65f4328-c60e-47c1-86e7-768eac12f966",
   "metadata": {},
   "outputs": [],
   "source": [
    "bi_corrected = bi_hvg + correction"
   ]
  },
  {
   "cell_type": "code",
   "execution_count": null,
   "id": "c3d39341-ff92-4d91-be71-23419a27d299",
   "metadata": {},
   "outputs": [],
   "source": []
  },
  {
   "cell_type": "code",
   "execution_count": null,
   "id": "6652b07b-c7ca-4469-b538-c4118846341a",
   "metadata": {},
   "outputs": [],
   "source": []
  },
  {
   "cell_type": "code",
   "execution_count": null,
   "id": "07c773fa-93f9-48a8-a7b7-3f50beb014b2",
   "metadata": {
    "tags": []
   },
   "outputs": [],
   "source": []
  },
  {
   "cell_type": "code",
   "execution_count": null,
   "id": "c13a2c60-3e01-4acd-b365-d44f28040bfd",
   "metadata": {
    "tags": []
   },
   "outputs": [],
   "source": []
  },
  {
   "cell_type": "code",
   "execution_count": 434,
   "id": "dfe8e293-f6e9-43fb-b246-e6922a1cc53b",
   "metadata": {
    "tags": []
   },
   "outputs": [
    {
     "name": "stdout",
     "output_type": "stream",
     "text": [
      "Performing cosine normalization...\n",
      "Starting MNN correct iteration. Reference batch: 0\n",
      "Step 1 of 1: processing batch 1\n",
      "  Looking for MNNs...\n",
      "  Computing correction vectors...\n",
      "  Applying correction...\n",
      "MNN correction complete. Gathering output...\n",
      "Packing AnnData object...\n"
     ]
    },
    {
     "name": "stderr",
     "output_type": "stream",
     "text": [
      "/home/user-dnf/.local/lib/python3.8/site-packages/scipy/sparse/_index.py:116: SparseEfficiencyWarning: Changing the sparsity structure of a csr_matrix is expensive. lil_matrix is more efficient.\n",
      "  self._set_arrayXarray_sparse(i, j, x)\n"
     ]
    },
    {
     "name": "stdout",
     "output_type": "stream",
     "text": [
      "Done.\n"
     ]
    }
   ],
   "source": [
    "corrected = mnnpy.mnn_correct(adata_ctrl_hvg, adata_stim_hvg, do_concatenate = False, var_adj=False)\n"
   ]
  },
  {
   "cell_type": "code",
   "execution_count": 483,
   "id": "70aca6cd-61e5-4c9a-bf74-8895110bb1ee",
   "metadata": {},
   "outputs": [],
   "source": [
    "corrected_mnnpy = corrected[0][1].X.toarray()"
   ]
  },
  {
   "cell_type": "code",
   "execution_count": 448,
   "id": "df238e2d-da1a-4c88-be91-729aad10581c",
   "metadata": {},
   "outputs": [
    {
     "data": {
      "text/plain": [
       "array([[ 0.00001207, -0.00002247,  0.00030707, ...,  0.00003268,\n",
       "        -0.00001538,  0.00010187],\n",
       "       [ 0.00000916, -0.00002378,  0.00034182, ...,  0.00003332,\n",
       "        -0.00000494,  0.00011209],\n",
       "       [ 0.00001171, -0.00002378,  0.00033741, ...,  0.0000445 ,\n",
       "        -0.00001758,  0.00012099],\n",
       "       ...,\n",
       "       [ 0.00000989, -0.00002577,  0.00035307, ...,  0.00003647,\n",
       "        -0.0000072 ,  0.00012651],\n",
       "       [ 0.00001008, -0.00002174,  0.00032928, ...,  0.00005182,\n",
       "        -0.00003217,  0.00014998],\n",
       "       [ 0.00001266, -0.00002262,  0.00035557, ...,  0.00004068,\n",
       "        -0.00001323,  0.0001155 ]], dtype=float32)"
      ]
     },
     "execution_count": 448,
     "metadata": {},
     "output_type": "execute_result"
    }
   ],
   "source": []
  },
  {
   "cell_type": "code",
   "execution_count": null,
   "id": "f7dca8b3-dd98-4ff7-ad81-9ba8a89b11b5",
   "metadata": {},
   "outputs": [],
   "source": []
  },
  {
   "cell_type": "code",
   "execution_count": null,
   "id": "03c72bdc-5d1e-4637-a74c-3692f5241ebb",
   "metadata": {},
   "outputs": [],
   "source": []
  },
  {
   "cell_type": "code",
   "execution_count": null,
   "id": "4fdda0cb-e260-4181-9f34-87e9237187c3",
   "metadata": {},
   "outputs": [],
   "source": []
  },
  {
   "cell_type": "code",
   "execution_count": null,
   "id": "70bfb348-4f6f-482a-9a2b-3a4bb100eada",
   "metadata": {},
   "outputs": [],
   "source": []
  },
  {
   "cell_type": "code",
   "execution_count": null,
   "id": "d00f6986-33ef-473a-a161-fd727bcadd3c",
   "metadata": {},
   "outputs": [],
   "source": []
  },
  {
   "cell_type": "code",
   "execution_count": null,
   "id": "0195a2bd-2541-413f-90da-07537332488e",
   "metadata": {},
   "outputs": [],
   "source": []
  }
 ],
 "metadata": {
  "kernelspec": {
   "display_name": "hiplex",
   "language": "python",
   "name": "hiplex"
  },
  "language_info": {
   "codemirror_mode": {
    "name": "ipython",
    "version": 3
   },
   "file_extension": ".py",
   "mimetype": "text/x-python",
   "name": "python",
   "nbconvert_exporter": "python",
   "pygments_lexer": "ipython3",
   "version": "3.8.15"
  }
 },
 "nbformat": 4,
 "nbformat_minor": 5
}
