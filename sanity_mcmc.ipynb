{
 "cells": [
  {
   "cell_type": "code",
   "execution_count": 1,
   "id": "b835d47b-1dd0-4696-8235-42e332bee47a",
   "metadata": {},
   "outputs": [],
   "source": [
    "\n",
    "import pandas as pd\n",
    "import numpy as np\n",
    "import matplotlib.pyplot as plt\n",
    "from tqdm import tqdm\n",
    "\n",
    "import numpyro\n",
    "import numpyro.distributions as dist \n",
    "from numpyro.infer import SVI, Trace_ELBO\n",
    "from numpyro.infer import MCMC, NUTS\n",
    "from jax import random\n",
    "import jax.numpy as jnp\n",
    "import jax\n",
    "numpyro.set_host_device_count(8)"
   ]
  },
  {
   "cell_type": "code",
   "execution_count": 2,
   "id": "a6797a48-6eaa-4e7b-81cd-ab1cf9f00f8f",
   "metadata": {},
   "outputs": [
    {
     "name": "stderr",
     "output_type": "stream",
     "text": [
      "No GPU/TPU found, falling back to CPU. (Set TF_CPP_MIN_LOG_LEVEL=0 and rerun for more info.)\n"
     ]
    },
    {
     "name": "stdout",
     "output_type": "stream",
     "text": [
      "cpu\n"
     ]
    }
   ],
   "source": [
    "from jax.lib import xla_bridge\n",
    "print(xla_bridge.get_backend().platform)\n"
   ]
  },
  {
   "cell_type": "code",
   "execution_count": 3,
   "id": "66db2b3c-820d-41b5-a48b-97b443731f12",
   "metadata": {},
   "outputs": [],
   "source": [
    "zeisel = pd.read_csv(\"Zeisel_UMI_counts.txt\", sep = \"\\t\")\n",
    "zeisel = zeisel.set_index(\"GeneID\").T\n",
    "cnt_mat = zeisel.to_numpy()"
   ]
  },
  {
   "cell_type": "code",
   "execution_count": 4,
   "id": "65e85258-0a2c-4058-87a6-77a2d4b2ca38",
   "metadata": {},
   "outputs": [],
   "source": [
    "gene = \"Zbed3\"\n",
    "\n",
    "n_g = zeisel[gene].values\n",
    "N_c = cnt_mat.sum(axis = 1)"
   ]
  },
  {
   "cell_type": "code",
   "execution_count": 5,
   "id": "c7a3f3d0-f940-447d-b82d-a9335551ca4f",
   "metadata": {},
   "outputs": [
    {
     "data": {
      "image/png": "[encoded data removed]",
      "text/plain": [
       "<Figure size 640x480 with 1 Axes>"
      ]
     },
     "metadata": {},
     "output_type": "display_data"
    }
   ],
   "source": [
    "plt.scatter(np.log(N_c), n_g, c = \"r\", s = 5)\n",
    "plt.ylabel(\"raw_counts\")\n",
    "plt.xlabel(\"log(N_c)\");"
   ]
  },
  {
   "cell_type": "code",
   "execution_count": 8,
   "id": "885f48b3-8e40-459d-b7e2-f2f3978cca80",
   "metadata": {},
   "outputs": [],
   "source": [
    "\n",
    "def sanity_model(n_g, N_c):\n",
    "    \"\"\"\n",
    "    n_g - is the vector of counts of gene g across all cells is the observed data\n",
    "    N_c - is the total count of gene transcripts in a given cell.\n",
    "    \n",
    "    \"\"\"\n",
    "\n",
    "    α_g = numpyro.sample(\"α_g\", dist.Uniform(0, 1))\n",
    "    v_gi = numpyro.sample(\"v_gi\", dist.Uniform(jnp.log(0.001), jnp.log(50)))\n",
    "    v_g = jnp.exp(v_gi)\n",
    "    cell_plate = numpyro.plate(\"cell_plate\", size = n_g.shape[0])\n",
    "    \n",
    "    with cell_plate:\n",
    "        δ_gc = numpyro.sample(\"δ_gc\", dist.Normal(loc = 0., scale = v_g))\n",
    "        fold_change = numpyro.deterministic(\"fold_change\", jnp.exp(δ_gc))\n",
    "        \n",
    "        α_gc = numpyro.deterministic(\"α_gc\", α_g*fold_change)\n",
    "        rate = numpyro.deterministic (\"rate\", N_c*α_gc)\n",
    "        numpyro.sample(\"n_cg\", dist.Poisson(rate = rate), obs=n_g)"
   ]
  },
  {
   "cell_type": "code",
   "execution_count": 9,
   "id": "23f04d84-2f37-4e35-a14f-2937610d706b",
   "metadata": {},
   "outputs": [
    {
     "data": {
      "image/svg+xml": [
       "<?xml version=\"1.0\" encoding=\"UTF-8\" standalone=\"no\"?>\n",
       "<!DOCTYPE svg PUBLIC \"-//W3C//DTD SVG 1.1//EN\"\n",
       " \"http://www.w3.org/Graphics/SVG/1.1/DTD/svg11.dtd\">\n",
       "<!-- Generated by graphviz version 2.43.0 (0)\n",
       " -->\n",
       "<!-- Title: %3 Pages: 1 -->\n",
       "<svg width=\"228pt\" height=\"443pt\"\n",
       " viewBox=\"0.00 0.00 228.30 443.00\" xmlns=\"http://www.w3.org/2000/svg\" xmlns:xlink=\"http://www.w3.org/1999/xlink\">\n",
       "<g id=\"graph0\" class=\"graph\" transform=\"scale(1 1) rotate(0) translate(4 439)\">\n",
       "<title>%3</title>\n",
       "<polygon fill=\"white\" stroke=\"transparent\" points=\"-4,4 -4,-439 224.3,-439 224.3,4 -4,4\"/>\n",
       "<g id=\"clust1\" class=\"cluster\">\n",
       "<title>cluster_cell_plate</title>\n",
       "<polygon fill=\"none\" stroke=\"black\" points=\"64.3,-8 64.3,-371 212.3,-371 212.3,-8 64.3,-8\"/>\n",
       "<text text-anchor=\"middle\" x=\"170.3\" y=\"-15.8\" font-family=\"Times,serif\" font-size=\"14.00\">cell_plate</text>\n",
       "</g>\n",
       "<!-- α_g -->\n",
       "<g id=\"node1\" class=\"node\">\n",
       "<title>α_g</title>\n",
       "<ellipse fill=\"white\" stroke=\"black\" cx=\"27.3\" cy=\"-273\" rx=\"27.1\" ry=\"18\"/>\n",
       "<text text-anchor=\"middle\" x=\"27.3\" y=\"-269.3\" font-family=\"Times,serif\" font-size=\"14.00\">α_g</text>\n",
       "</g>\n",
       "<!-- α_gc -->\n",
       "<g id=\"node5\" class=\"node\">\n",
       "<title>α_gc</title>\n",
       "<ellipse fill=\"white\" stroke=\"black\" stroke-dasharray=\"5,2\" cx=\"121.3\" cy=\"-201\" rx=\"32.49\" ry=\"18\"/>\n",
       "<text text-anchor=\"middle\" x=\"121.3\" y=\"-197.3\" font-family=\"Times,serif\" font-size=\"14.00\">α_gc</text>\n",
       "</g>\n",
       "<!-- α_g&#45;&gt;α_gc -->\n",
       "<g id=\"edge3\" class=\"edge\">\n",
       "<title>α_g&#45;&gt;α_gc</title>\n",
       "<path fill=\"none\" stroke=\"black\" d=\"M44.98,-258.83C58.89,-248.47 78.5,-233.87 94.37,-222.06\"/>\n",
       "<polygon fill=\"black\" stroke=\"black\" points=\"96.8,-224.61 102.73,-215.83 92.62,-218.99 96.8,-224.61\"/>\n",
       "</g>\n",
       "<!-- v_gi -->\n",
       "<g id=\"node2\" class=\"node\">\n",
       "<title>v_gi</title>\n",
       "<ellipse fill=\"white\" stroke=\"black\" cx=\"138.3\" cy=\"-417\" rx=\"29.5\" ry=\"18\"/>\n",
       "<text text-anchor=\"middle\" x=\"138.3\" y=\"-413.3\" font-family=\"Times,serif\" font-size=\"14.00\">v_gi</text>\n",
       "</g>\n",
       "<!-- δ_gc -->\n",
       "<g id=\"node3\" class=\"node\">\n",
       "<title>δ_gc</title>\n",
       "<ellipse fill=\"white\" stroke=\"black\" cx=\"138.3\" cy=\"-345\" rx=\"31.4\" ry=\"18\"/>\n",
       "<text text-anchor=\"middle\" x=\"138.3\" y=\"-341.3\" font-family=\"Times,serif\" font-size=\"14.00\">δ_gc</text>\n",
       "</g>\n",
       "<!-- v_gi&#45;&gt;δ_gc -->\n",
       "<g id=\"edge1\" class=\"edge\">\n",
       "<title>v_gi&#45;&gt;δ_gc</title>\n",
       "<path fill=\"none\" stroke=\"black\" d=\"M138.3,-398.7C138.3,-390.98 138.3,-381.71 138.3,-373.11\"/>\n",
       "<polygon fill=\"black\" stroke=\"black\" points=\"141.8,-373.1 138.3,-363.1 134.8,-373.1 141.8,-373.1\"/>\n",
       "</g>\n",
       "<!-- fold_change -->\n",
       "<g id=\"node4\" class=\"node\">\n",
       "<title>fold_change</title>\n",
       "<ellipse fill=\"white\" stroke=\"black\" stroke-dasharray=\"5,2\" cx=\"138.3\" cy=\"-273\" rx=\"65.79\" ry=\"18\"/>\n",
       "<text text-anchor=\"middle\" x=\"138.3\" y=\"-269.3\" font-family=\"Times,serif\" font-size=\"14.00\">fold_change</text>\n",
       "</g>\n",
       "<!-- δ_gc&#45;&gt;fold_change -->\n",
       "<g id=\"edge2\" class=\"edge\">\n",
       "<title>δ_gc&#45;&gt;fold_change</title>\n",
       "<path fill=\"none\" stroke=\"black\" d=\"M138.3,-326.7C138.3,-318.98 138.3,-309.71 138.3,-301.11\"/>\n",
       "<polygon fill=\"black\" stroke=\"black\" points=\"141.8,-301.1 138.3,-291.1 134.8,-301.1 141.8,-301.1\"/>\n",
       "</g>\n",
       "<!-- fold_change&#45;&gt;α_gc -->\n",
       "<g id=\"edge4\" class=\"edge\">\n",
       "<title>fold_change&#45;&gt;α_gc</title>\n",
       "<path fill=\"none\" stroke=\"black\" d=\"M134.1,-254.7C132.2,-246.9 129.92,-237.51 127.81,-228.83\"/>\n",
       "<polygon fill=\"black\" stroke=\"black\" points=\"131.21,-228 125.45,-219.1 124.41,-229.65 131.21,-228\"/>\n",
       "</g>\n",
       "<!-- rate -->\n",
       "<g id=\"node6\" class=\"node\">\n",
       "<title>rate</title>\n",
       "<ellipse fill=\"white\" stroke=\"black\" stroke-dasharray=\"5,2\" cx=\"121.3\" cy=\"-129\" rx=\"29.8\" ry=\"18\"/>\n",
       "<text text-anchor=\"middle\" x=\"121.3\" y=\"-125.3\" font-family=\"Times,serif\" font-size=\"14.00\">rate</text>\n",
       "</g>\n",
       "<!-- α_gc&#45;&gt;rate -->\n",
       "<g id=\"edge5\" class=\"edge\">\n",
       "<title>α_gc&#45;&gt;rate</title>\n",
       "<path fill=\"none\" stroke=\"black\" d=\"M121.3,-182.7C121.3,-174.98 121.3,-165.71 121.3,-157.11\"/>\n",
       "<polygon fill=\"black\" stroke=\"black\" points=\"124.8,-157.1 121.3,-147.1 117.8,-157.1 124.8,-157.1\"/>\n",
       "</g>\n",
       "<!-- n_cg -->\n",
       "<g id=\"node7\" class=\"node\">\n",
       "<title>n_cg</title>\n",
       "<ellipse fill=\"grey\" stroke=\"black\" cx=\"121.3\" cy=\"-57\" rx=\"31.7\" ry=\"18\"/>\n",
       "<text text-anchor=\"middle\" x=\"121.3\" y=\"-53.3\" font-family=\"Times,serif\" font-size=\"14.00\">n_cg</text>\n",
       "</g>\n",
       "<!-- rate&#45;&gt;n_cg -->\n",
       "<g id=\"edge6\" class=\"edge\">\n",
       "<title>rate&#45;&gt;n_cg</title>\n",
       "<path fill=\"none\" stroke=\"black\" d=\"M121.3,-110.7C121.3,-102.98 121.3,-93.71 121.3,-85.11\"/>\n",
       "<polygon fill=\"black\" stroke=\"black\" points=\"124.8,-85.1 121.3,-75.1 117.8,-85.1 124.8,-85.1\"/>\n",
       "</g>\n",
       "</g>\n",
       "</svg>\n"
      ],
      "text/plain": [
       "<graphviz.graphs.Digraph at 0x7f233418e760>"
      ]
     },
     "execution_count": 9,
     "metadata": {},
     "output_type": "execute_result"
    }
   ],
   "source": [
    "numpyro.render_model(sanity_model, model_args=(n_g,N_c,))"
   ]
  },
  {
   "cell_type": "code",
   "execution_count": 12,
   "id": "1a109061-7415-4649-aeda-456ab267375f",
   "metadata": {},
   "outputs": [],
   "source": [
    "zsan = pd.read_csv(\"Zeisel_Sanity_normalization.txt\", sep = \"\\t\")\n",
    "zsan = zsan.set_index(\"GeneID\").T\n",
    "cnt_mat_san = zsan.to_numpy()"
   ]
  },
  {
   "cell_type": "code",
   "execution_count": 13,
   "id": "1aacbf58-4053-4e5d-8dcb-8bdfb428bfd5",
   "metadata": {},
   "outputs": [
    {
     "data": {
      "text/plain": [
       "<matplotlib.collections.PathCollection at 0x7f2240466280>"
      ]
     },
     "execution_count": 13,
     "metadata": {},
     "output_type": "execute_result"
    },
    {
     "data": {
      "image/png": "[encoded data removed]",
      "text/plain": [
       "<Figure size 640x480 with 1 Axes>"
      ]
     },
     "metadata": {},
     "output_type": "display_data"
    }
   ],
   "source": [
    "plt.scatter(np.log(N_c), zsan[gene] , c = \"r\", s = 2)"
   ]
  },
  {
   "cell_type": "code",
   "execution_count": 14,
   "id": "505549fb-01c0-42b3-81c3-7482f5e3f523",
   "metadata": {},
   "outputs": [
    {
     "data": {
      "text/plain": [
       "((3005, 19972), (3005, 19972))"
      ]
     },
     "execution_count": 14,
     "metadata": {},
     "output_type": "execute_result"
    }
   ],
   "source": [
    "cnt_mat_san.shape, cnt_mat.shape"
   ]
  },
  {
   "cell_type": "code",
   "execution_count": 15,
   "id": "df0ec063-34b4-4f6e-8539-fd1633c0b91b",
   "metadata": {},
   "outputs": [],
   "source": [
    "rng_key = random.PRNGKey(0)\n",
    "rng_key, rng_key_ = random.split(rng_key)\n",
    "\n",
    "# Run NUTS.\n",
    "kernel = NUTS(sanity_model)\n",
    "num_samples = 4000\n",
    "num_chains = 8\n",
    "mcmc = MCMC(kernel, num_warmup=1000, num_samples=num_samples, num_chains = num_chains,progress_bar = False)\n"
   ]
  },
  {
   "cell_type": "code",
   "execution_count": 16,
   "id": "36a48542-6fd3-44d1-802a-af8e192590e9",
   "metadata": {},
   "outputs": [
    {
     "name": "stdout",
     "output_type": "stream",
     "text": [
      "CPU times: user 2min 19s, sys: 5.43 s, total: 2min 25s\n",
      "Wall time: 33.5 s\n"
     ]
    }
   ],
   "source": [
    "%%time\n",
    "mcmc.run(\n",
    "    rng_key_, n_g, N_c\n",
    ")"
   ]
  },
  {
   "cell_type": "code",
   "execution_count": 17,
   "id": "61014336-78c5-4947-84ac-2c11321d762c",
   "metadata": {},
   "outputs": [],
   "source": [
    "estimates = mcmc.get_samples()"
   ]
  },
  {
   "cell_type": "code",
   "execution_count": 19,
   "id": "96ffe5ed-0ac9-48f5-869a-d1d81d8dbd92",
   "metadata": {},
   "outputs": [],
   "source": [
    "alpha_g = estimates[\"α_g\"].mean()\n",
    "delta_gcs = estimates[\"δ_gc\"].mean(axis = 0)"
   ]
  },
  {
   "cell_type": "code",
   "execution_count": 20,
   "id": "e44b46a6-e6bd-4dd9-a4a7-b1412f9803fc",
   "metadata": {},
   "outputs": [],
   "source": [
    "vals = np.log(alpha_g*np.exp(delta_gcs))"
   ]
  },
  {
   "cell_type": "code",
   "execution_count": 21,
   "id": "7567a955-f80f-4a65-a5e7-c61403c33f0b",
   "metadata": {},
   "outputs": [],
   "source": [
    "R_mine = np.corrcoef(np.log(N_c), vals)[0, 1]\n",
    "R_paper = -0.035"
   ]
  },
  {
   "cell_type": "code",
   "execution_count": 22,
   "id": "75f5c8f8-01d8-4a30-8c74-472a33210d19",
   "metadata": {},
   "outputs": [
    {
     "data": {
      "text/plain": [
       "Text(8, -11.3, 'R_sanity : -0.035')"
      ]
     },
     "execution_count": 22,
     "metadata": {},
     "output_type": "execute_result"
    },
    {
     "data": {
      "image/png": "[encoded data removed]",
      "text/plain": [
       "<Figure size 640x480 with 1 Axes>"
      ]
     },
     "metadata": {},
     "output_type": "display_data"
    }
   ],
   "source": [
    "plt.scatter(np.log(N_c), vals, c= \"r\", s = 2, label = \"Mine\")\n",
    "plt.scatter(np.log(N_c), zsan[gene], c= \"b\", s = 2, label = \"Sanity\")\n",
    "plt.legend()\n",
    "plt.text(8, -11.2, f\"R_mine : {round(R_mine, 4)}\", {\"color\":\"r\"})\n",
    "plt.text(8, -11.3, f\"R_sanity : {R_paper}\", {\"color\": \"r\"})"
   ]
  },
  {
   "cell_type": "code",
   "execution_count": 30,
   "id": "4c22ed12-db3b-4a17-99d6-ec213ce049ed",
   "metadata": {},
   "outputs": [
    {
     "data": {
      "image/png": "[encoded data removed]",
      "text/plain": [
       "<Figure size 640x480 with 1 Axes>"
      ]
     },
     "metadata": {},
     "output_type": "display_data"
    }
   ],
   "source": [
    "plt.hist(delta_gcs, bins=\"auto\");"
   ]
  },
  {
   "cell_type": "code",
   "execution_count": null,
   "id": "af4ccdfd-8c80-490c-b33d-a18edb44975f",
   "metadata": {},
   "outputs": [],
   "source": []
  },
  {
   "cell_type": "code",
   "execution_count": null,
   "id": "e2529e9b-d5e3-41a7-8012-a3d7ba513f78",
   "metadata": {},
   "outputs": [],
   "source": []
  },
  {
   "cell_type": "code",
   "execution_count": null,
   "id": "0b2abf55-20ab-4482-a098-0e24af91d406",
   "metadata": {},
   "outputs": [],
   "source": []
  },
  {
   "cell_type": "code",
   "execution_count": null,
   "id": "ce87a3d7-39a6-4698-bfb8-f7d6553461cd",
   "metadata": {},
   "outputs": [],
   "source": []
  }
 ],
 "metadata": {
  "kernelspec": {
   "display_name": "scvi",
   "language": "python",
   "name": "scvi-env"
  },
  "language_info": {
   "codemirror_mode": {
    "name": "ipython",
    "version": 3
   },
   "file_extension": ".py",
   "mimetype": "text/x-python",
   "name": "python",
   "nbconvert_exporter": "python",
   "pygments_lexer": "ipython3",
   "version": "3.9.15"
  }
 },
 "nbformat": 4,
 "nbformat_minor": 5
}
