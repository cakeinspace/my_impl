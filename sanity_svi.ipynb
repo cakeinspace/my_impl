{
 "cells": [
  {
   "cell_type": "code",
   "execution_count": 1,
   "id": "b835d47b-1dd0-4696-8235-42e332bee47a",
   "metadata": {},
   "outputs": [],
   "source": [
    "import pandas as pd\n",
    "import numpy as np\n",
    "import matplotlib.pyplot as plt\n",
    "from tqdm import tqdm\n",
    "\n",
    "\n",
    "import pyro\n",
    "import pyro.distributions as dist \n",
    "from  pyro.distributions import TransformedDistribution\n",
    "from torch.distributions import Transform\n",
    "from  pyro.distributions.transforms import ExpTransform\n",
    "from pyro.infer import SVI, Trace_ELBO\n",
    "from pyro.optim import Adam\n",
    "from pyro.infer.autoguide import AutoDiagonalNormal, AutoNormal, AutoMultivariateNormal,AutoLowRankMultivariateNormal,  AutoGuideList, AutoLaplaceApproximation\n",
    "import torch.distributions.constraints as constraints\n",
    "import torch\n",
    "from pyro import poutine"
   ]
  },
  {
   "cell_type": "code",
   "execution_count": 2,
   "id": "66db2b3c-820d-41b5-a48b-97b443731f12",
   "metadata": {},
   "outputs": [],
   "source": [
    "zeisel = pd.read_csv(\"Zeisel_UMI_counts.txt\", sep = \"\\t\")\n",
    "zeisel = zeisel.set_index(\"GeneID\").T\n",
    "cnt_mat = zeisel.to_numpy()"
   ]
  },
  {
   "cell_type": "code",
   "execution_count": 3,
   "id": "130b0f3d-b7c2-4a2b-91c9-b97633eb643f",
   "metadata": {},
   "outputs": [],
   "source": [
    "zsan = pd.read_csv(\"Zeisel_Sanity_normalization.txt\", sep = \"\\t\")\n",
    "zsan = zsan.set_index(\"GeneID\").T\n",
    "cnt_mat_san = zsan.to_numpy()"
   ]
  },
  {
   "cell_type": "code",
   "execution_count": 4,
   "id": "65e85258-0a2c-4058-87a6-77a2d4b2ca38",
   "metadata": {},
   "outputs": [],
   "source": [
    "gene = \"Zbed3\"\n",
    "\n",
    "n_g = zeisel[gene].values\n",
    "N_c = cnt_mat.sum(axis = 1)"
   ]
  },
  {
   "cell_type": "code",
   "execution_count": 5,
   "id": "c7a3f3d0-f940-447d-b82d-a9335551ca4f",
   "metadata": {},
   "outputs": [
    {
     "data": {
      "image/png": "[encoded data removed]",
      "text/plain": [
       "<Figure size 432x288 with 1 Axes>"
      ]
     },
     "metadata": {
      "needs_background": "light"
     },
     "output_type": "display_data"
    }
   ],
   "source": [
    "plt.scatter(np.log(N_c), n_g, c = \"r\", s = 5)\n",
    "plt.ylabel(\"raw_counts\")\n",
    "plt.xlabel(\"log(N_c)\");"
   ]
  },
  {
   "cell_type": "code",
   "execution_count": 6,
   "id": "885f48b3-8e40-459d-b7e2-f2f3978cca80",
   "metadata": {},
   "outputs": [],
   "source": [
    "\n",
    "def sanity_model(n_g, N_c):\n",
    "    \"\"\"\n",
    "    n_g - is the vector of counts of gene g across all cells is the observed data\n",
    "    N_c - is the total count of gene transcripts in a given cell.\n",
    "    \n",
    "    \"\"\"\n",
    "    min_val_log = torch.tensor([0.001]).log().cuda()\n",
    "    max_val_log = torch.tensor([50.]).log().cuda()\n",
    "    un0 = torch.tensor([0.0]).cuda()\n",
    "    un1 = torch.tensor([1.0]).cuda()\n",
    "    loc_0 = torch.tensor([0.]).cuda()\n",
    "    \n",
    "    α_g = pyro.sample(\"α_g\", dist.Uniform(un0, un1))\n",
    "    v_gi = pyro.sample(\"v_gi\", dist.Uniform(min_val_log, max_val_log))\n",
    "    v_g = torch.exp(v_gi)\n",
    "        \n",
    "    \n",
    "    cell_plate = pyro.plate(\"cell_plate\", size = n_g.shape[0])\n",
    "    \n",
    "    with cell_plate:\n",
    "        δ_gc = pyro.sample(\"fold_change_each_cell\", dist.Normal(loc = loc_0, scale = v_g))\n",
    "        α_gc = α_g*torch.exp(δ_gc)\n",
    "        counts = pyro.sample(\"obs\", dist.Poisson(rate = N_c*α_gc), obs=n_g)\n",
    "        \n",
    "       "
   ]
  },
  {
   "cell_type": "code",
   "execution_count": 7,
   "id": "e528e04b-0c2b-457e-af2f-2f5159713b42",
   "metadata": {},
   "outputs": [],
   "source": [
    "def init_loc_fn(site):\n",
    "    shape = site[\"fn\"].shape()\n",
    "    \n",
    "    if site[\"name\"] == \"α_g\":\n",
    "        return torch.tensor([.001]).cuda()\n",
    "    if site[\"name\"] == \"v_gi\":\n",
    "        return torch.tensor([.2]).cuda()\n",
    "    if site[\"name\"] == \"fold_change_each_cell\":\n",
    "        return dist.Normal(-2, 2).sample((len(n_g), )).cuda()\n",
    "    raise NotImplementedError(f\"TODO initialize latent variable {site['name']}\")"
   ]
  },
  {
   "cell_type": "code",
   "execution_count": 8,
   "id": "6e008beb-e118-47b5-9bce-49cc05d3d8d3",
   "metadata": {},
   "outputs": [],
   "source": [
    "#guide = AutoNormal(sanity_model, init_loc_fn=init_loc_fn, init_scale = .01)\n",
    "\n",
    "#guide = AutoLowRankMultivariateNormal(sanity_model, init_loc_fn = init_loc_fn, rank = 200)\n",
    "guide = AutoGuideList(sanity_model)\n",
    "guide.append(AutoNormal(poutine.block(sanity_model, expose=[\"α_g\"]), init_scale = 1e-5, init_loc_fn = init_loc_fn))\n",
    "guide.append(AutoNormal(poutine.block(sanity_model, expose=[\"v_gi\"]), init_scale = 1e-2, init_loc_fn = init_loc_fn))\n",
    "guide.append(AutoLowRankMultivariateNormal(poutine.block(sanity_model, expose=[\"fold_change_each_cell\"]), init_scale = 1e-1, init_loc_fn = init_loc_fn) )"
   ]
  },
  {
   "cell_type": "code",
   "execution_count": 9,
   "id": "03061d92-5317-4d68-ba0d-3024a70e61f6",
   "metadata": {},
   "outputs": [],
   "source": [
    "adam = Adam({\"lr\": 1e-2})\n",
    "svi = SVI(sanity_model, guide, adam, loss=Trace_ELBO())"
   ]
  },
  {
   "cell_type": "code",
   "execution_count": 10,
   "id": "5bf87aef-5ae0-4f8b-a306-6931c72c1f8d",
   "metadata": {},
   "outputs": [
    {
     "name": "stderr",
     "output_type": "stream",
     "text": [
      "100%|████████████████████████████████████████████████████████████████████████████████████████████████████████████████| 15000/15000 [04:45<00:00, 52.53it/s]\n"
     ]
    }
   ],
   "source": [
    "pyro.clear_param_store()\n",
    "num_iterations = 15000\n",
    "n_gt = torch.tensor(n_g).cuda()\n",
    "N_ct = torch.tensor(N_c).cuda()\n",
    "losses = []\n",
    "for j in tqdm(range(num_iterations)):\n",
    "    # calculate the loss and take a gradient step\n",
    "    loss = svi.step(n_gt, N_ct)\n",
    "    losses.append(loss)"
   ]
  },
  {
   "cell_type": "code",
   "execution_count": 11,
   "id": "b1e35411-b768-4ca2-94ec-35adca281eeb",
   "metadata": {},
   "outputs": [
    {
     "data": {
      "text/plain": [
       "[<matplotlib.lines.Line2D at 0x7f1ce070d3a0>]"
      ]
     },
     "execution_count": 11,
     "metadata": {},
     "output_type": "execute_result"
    },
    {
     "data": {
      "image/png": "[encoded data removed]",
      "text/plain": [
       "<Figure size 432x288 with 1 Axes>"
      ]
     },
     "metadata": {
      "needs_background": "light"
     },
     "output_type": "display_data"
    }
   ],
   "source": [
    "plt.plot(losses)"
   ]
  },
  {
   "cell_type": "markdown",
   "id": "17290b99-096d-4ce2-9061-998556efd4b4",
   "metadata": {},
   "source": [
    "#### get posterior samples"
   ]
  },
  {
   "cell_type": "code",
   "execution_count": 12,
   "id": "7664c132-5c31-47da-9877-71318e4b4198",
   "metadata": {},
   "outputs": [
    {
     "name": "stderr",
     "output_type": "stream",
     "text": [
      "100%|█████████████████████████████████████████████████████████████████████████████████████████████████████████████████| 8000/8000 [00:15<00:00, 512.84it/s]\n"
     ]
    }
   ],
   "source": [
    "alpha_gs = []\n",
    "v_gs = []\n",
    "delta_gcs = []\n",
    "for _ in tqdm(range(8000)):\n",
    "    estimates = guide(n_gt, N_ct)\n",
    "    alpha_g = estimates[\"α_g\"].detach().cpu().numpy().item()\n",
    "    v_g = estimates[\"v_gi\"].detach().cpu().numpy().item()\n",
    "    delta_gc = estimates[\"fold_change_each_cell\"].detach().cpu().numpy()\n",
    "    alpha_gs.append(alpha_g)\n",
    "    delta_gcs.append(delta_gc)\n",
    "    v_gs.append(v_g)"
   ]
  },
  {
   "cell_type": "code",
   "execution_count": 13,
   "id": "7a0347a1-a01c-48a3-90bd-abac67ebce10",
   "metadata": {},
   "outputs": [
    {
     "data": {
      "text/plain": [
       "((3005,), 3.322136224227279e-06)"
      ]
     },
     "execution_count": 13,
     "metadata": {},
     "output_type": "execute_result"
    }
   ],
   "source": [
    "delta_gcs_post = np.asarray(delta_gcs).mean(axis = 0)\n",
    "alpha_g_post = np.mean(alpha_gs)\n",
    "delta_gcs_post.shape, alpha_g_post"
   ]
  },
  {
   "cell_type": "code",
   "execution_count": 14,
   "id": "e9c846b1-b17d-487b-98d3-1b815db1057c",
   "metadata": {},
   "outputs": [
    {
     "data": {
      "text/plain": [
       "Text(8, -10.7, 'R_sanity : -0.035')"
      ]
     },
     "execution_count": 14,
     "metadata": {},
     "output_type": "execute_result"
    },
    {
     "data": {
      "image/png": "[encoded data removed]",
      "text/plain": [
       "<Figure size 432x288 with 1 Axes>"
      ]
     },
     "metadata": {
      "needs_background": "light"
     },
     "output_type": "display_data"
    }
   ],
   "source": [
    "\n",
    "vals = np.log(alpha_g_post*np.exp(delta_gcs_post))\n",
    "R_mine = np.corrcoef(vals, np.log(N_c))[0, 1]\n",
    "R_paper = -0.035 \n",
    "\n",
    "plt.scatter(np.log(N_c), vals, c= \"r\", s = 2, label = \"Mine\")\n",
    "plt.scatter(np.log(N_c), zsan[gene], c= \"b\", s = 2, label = \"Sanity\")\n",
    "plt.legend()\n",
    "plt.text(8, -10.5, f\"R_mine : {round(R_mine, 4)}\", {\"color\":\"r\"})\n",
    "plt.text(8, -10.7, f\"R_sanity : {R_paper}\", {\"color\": \"r\"})"
   ]
  },
  {
   "cell_type": "code",
   "execution_count": 15,
   "id": "2e48c1e9-fe45-4353-8ce7-ec4980edf043",
   "metadata": {},
   "outputs": [
    {
     "data": {
      "image/png": "[encoded data removed]",
      "text/plain": [
       "<Figure size 432x288 with 1 Axes>"
      ]
     },
     "metadata": {
      "needs_background": "light"
     },
     "output_type": "display_data"
    }
   ],
   "source": [
    "plt.hist(delta_gcs_post, bins =\"auto\");"
   ]
  },
  {
   "cell_type": "code",
   "execution_count": null,
   "id": "916af3f5-30ec-4fce-80e9-0da0ca0bc98f",
   "metadata": {},
   "outputs": [],
   "source": []
  },
  {
   "cell_type": "code",
   "execution_count": null,
   "id": "ad1cc0ee-815b-43f2-a192-e26159d30694",
   "metadata": {},
   "outputs": [],
   "source": []
  },
  {
   "cell_type": "code",
   "execution_count": null,
   "id": "601c6a88-1a20-49f7-b17a-2d294a50b9e8",
   "metadata": {},
   "outputs": [],
   "source": []
  },
  {
   "cell_type": "code",
   "execution_count": null,
   "id": "dc75a97b-dfe1-4ac3-8ccd-6249a5b9e533",
   "metadata": {},
   "outputs": [],
   "source": []
  },
  {
   "cell_type": "code",
   "execution_count": null,
   "id": "092e19ea-39b1-4c1f-bf37-c067aee4e454",
   "metadata": {},
   "outputs": [],
   "source": []
  }
 ],
 "metadata": {
  "kernelspec": {
   "display_name": "stenopy",
   "language": "python",
   "name": "stenopy"
  },
  "language_info": {
   "codemirror_mode": {
    "name": "ipython",
    "version": 3
   },
   "file_extension": ".py",
   "mimetype": "text/x-python",
   "name": "python",
   "nbconvert_exporter": "python",
   "pygments_lexer": "ipython3",
   "version": "3.9.7"
  }
 },
 "nbformat": 4,
 "nbformat_minor": 5
}
